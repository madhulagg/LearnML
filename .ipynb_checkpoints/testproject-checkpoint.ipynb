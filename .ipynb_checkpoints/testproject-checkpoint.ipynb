{
 "cells": [
  {
   "cell_type": "code",
   "execution_count": 9,
   "id": "51db2123-f3ad-4d36-9572-08ac207931fd",
   "metadata": {},
   "outputs": [],
   "source": [
    "import random"
   ]
  },
  {
   "cell_type": "code",
   "execution_count": 10,
   "id": "f05a2e44-8d1d-496b-a8ae-a0f304bb9e0f",
   "metadata": {},
   "outputs": [],
   "source": [
    "word_bank = ['hello', 'world', 'july', 'august','hola']"
   ]
  },
  {
   "cell_type": "code",
   "execution_count": 21,
   "id": "1005af85-181d-4a5a-ad0c-4b349a5d192f",
   "metadata": {},
   "outputs": [],
   "source": [
    "word = random.choice(word_bank)"
   ]
  },
  {
   "cell_type": "code",
   "execution_count": 22,
   "id": "11b5474c-b5ac-4f1f-8834-93d1288e3672",
   "metadata": {},
   "outputs": [
    {
     "data": {
      "text/plain": [
       "'hello'"
      ]
     },
     "execution_count": 22,
     "metadata": {},
     "output_type": "execute_result"
    }
   ],
   "source": [
    "word"
   ]
  },
  {
   "cell_type": "code",
   "execution_count": 23,
   "id": "66435c25-dbb2-4985-8f46-aa1967035233",
   "metadata": {},
   "outputs": [],
   "source": [
    "toGuess = ['_'] * len(word)"
   ]
  },
  {
   "cell_type": "code",
   "execution_count": 24,
   "id": "92d2447c-13c0-4d9e-83d2-4ec05311bbf4",
   "metadata": {},
   "outputs": [],
   "source": [
    "attempts = 10"
   ]
  },
  {
   "cell_type": "code",
   "execution_count": 25,
   "id": "dfa0ed0d-39ab-4420-9543-0a3b3097c985",
   "metadata": {},
   "outputs": [
    {
     "ename": "SyntaxError",
     "evalue": "incomplete input (4008503602.py, line 1)",
     "output_type": "error",
     "traceback": [
      "\u001b[0;36m  Cell \u001b[0;32mIn[25], line 1\u001b[0;36m\u001b[0m\n\u001b[0;31m    while attempts > 0:\u001b[0m\n\u001b[0m                       ^\u001b[0m\n\u001b[0;31mSyntaxError\u001b[0m\u001b[0;31m:\u001b[0m incomplete input\n"
     ]
    }
   ],
   "source": [
    "while attempts > 0:"
   ]
  },
  {
   "cell_type": "code",
   "execution_count": 26,
   "id": "eaccef5c-881b-429a-bc26-c703d6aefa9b",
   "metadata": {},
   "outputs": [
    {
     "ename": "IndentationError",
     "evalue": "expected an indented block after 'while' statement on line 1 (3437067124.py, line 2)",
     "output_type": "error",
     "traceback": [
      "\u001b[0;36m  Cell \u001b[0;32mIn[26], line 2\u001b[0;36m\u001b[0m\n\u001b[0;31m    print('\\n Current Word : ' + ' '.join(toGuess)\u001b[0m\n\u001b[0m    ^\u001b[0m\n\u001b[0;31mIndentationError\u001b[0m\u001b[0;31m:\u001b[0m expected an indented block after 'while' statement on line 1\n"
     ]
    }
   ],
   "source": [
    "while attempts > 0:\n",
    "print('\\n Current Word : ' + ' '.join(toGuess)"
   ]
  },
  {
   "cell_type": "code",
   "execution_count": null,
   "id": "72c9f8a4-ee9a-47a0-8227-c235c9623f60",
   "metadata": {},
   "outputs": [],
   "source": [
    "guess = input('Guess a letter: ')"
   ]
  },
  {
   "cell_type": "code",
   "execution_count": null,
   "id": "27b572e6-0cc0-4aa7-9d46-0914053766af",
   "metadata": {},
   "outputs": [],
   "source": [
    "if guess in word:\n",
    "  for i in range(len(word)):\n",
    "    if word[i] == guess\n",
    "      toGuess[i] = guess\n",
    "  print('Great guess!')"
   ]
  },
  {
   "cell_type": "code",
   "execution_count": null,
   "id": "7a5d53d8-e4ab-4ad5-8cc1-7a614cc76ddf",
   "metadata": {},
   "outputs": [],
   "source": []
  }
 ],
 "metadata": {
  "kernelspec": {
   "display_name": "Python 3 (ipykernel)",
   "language": "python",
   "name": "python3"
  },
  "language_info": {
   "codemirror_mode": {
    "name": "ipython",
    "version": 3
   },
   "file_extension": ".py",
   "mimetype": "text/x-python",
   "name": "python",
   "nbconvert_exporter": "python",
   "pygments_lexer": "ipython3",
   "version": "3.12.7"
  }
 },
 "nbformat": 4,
 "nbformat_minor": 5
}
